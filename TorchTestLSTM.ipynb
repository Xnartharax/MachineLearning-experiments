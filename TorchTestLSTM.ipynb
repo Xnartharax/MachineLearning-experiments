{
 "cells": [
  {
   "cell_type": "markdown",
   "metadata": {},
   "source": [
    "# Stock Predictor\n",
    "LSTM architecture to predict Stockprices based on [this Kaggle Dataset](https://www.kaggle.com/borismarjanovic/price-volume-data-for-all-us-stocks-etfs)\n"
   ]
  },
  {
   "cell_type": "code",
   "execution_count": 1,
   "metadata": {},
   "outputs": [
    {
     "name": "stdout",
     "output_type": "stream",
     "text": [
      "False\n"
     ]
    }
   ],
   "source": [
    "%matplotlib inline\n",
    "from IPython.display import display, clear_output\n",
    "import torch\n",
    "import torch.nn as nn\n",
    "import numpy as np\n",
    "import pandas as pd\n",
    "import sys\n",
    "import matplotlib\n",
    "import time\n",
    "matplotlib.use('Agg')\n",
    "import matplotlib.pyplot as plt\n",
    "plt.tight_layout(pad=0.4, w_pad=0.5, h_pad=1.0)\n",
    "torch.manual_seed(1)"
   ]
  },
  {
   "cell_type": "code",
   "execution_count": 22,
   "metadata": {},
   "outputs": [
    {
     "name": "stdout",
     "output_type": "stream",
     "text": [
      "3330\n"
     ]
    }
   ],
   "source": [
    "csv = pd.read_csv('./googl.us.txt')\n",
    "csv.drop(columns=[\"OpenInt\", \"Date\"], inplace=True)\n",
    "data = torch.tensor(csv.values, dtype=torch.float)\n",
    "data = data[:-3]\n",
    "print(data.size()[0])"
   ]
  },
  {
   "cell_type": "code",
   "execution_count": 23,
   "metadata": {},
   "outputs": [],
   "source": [
    "for column in range(5):\n",
    "    data[:, column] /= torch.max(data[:, column])\n",
    "    data[:, column] -= data[:, column].mean()"
   ]
  },
  {
   "cell_type": "code",
   "execution_count": 90,
   "metadata": {},
   "outputs": [],
   "source": [
    "class StockPredictor(nn.Module):\n",
    "    def __init__(self, structure):\n",
    "        super(StockPredictor, self).__init__()\n",
    "        self.structure = structure\n",
    "        self.layers = len(structure)\n",
    "        self.lstms = [nn.LSTM(i, o) for i, o in zip(structure[:-2], structure[1:-1])]\n",
    "        self.final = nn.Linear(structure[-2], structure[-1])\n",
    "        self.activation = nn.LeakyReLU()\n",
    "    def forward(self, stock, keep_hidden_state=False, batches=10):\n",
    "        if not keep_hidden_state:\n",
    "            self.init_hidden(batches)\n",
    "        for i, lstm in enumerate(self.lstms):\n",
    "            if i != 0:\n",
    "                out, self.hidden[i] = lstm(out, self.hidden[i])\n",
    "            else:\n",
    "                out, self.hidden[i] = lstm(stock, self.hidden[i])\n",
    "            #out = self.activation(out)\n",
    "        out = self.final(out)\n",
    "        return out\n",
    "    def sample(self, length):\n",
    "        initial_input = torch.randn(1, 1, 5)\n",
    "        sample =[]\n",
    "        out = self.forward(initial_input, batches=1)\n",
    "        sample.append(out.tolist())\n",
    "        for i in range(1, length):\n",
    "            out = self.forward(out, batches=1, keep_hidden_state=True)\n",
    "            sample.append(out.tolist())\n",
    "        return torch.tensor(sample)\n",
    "    def init_hidden(self, batches):\n",
    "        self.hidden = [(torch.zeros(1, batches, layer_size),\n",
    "                       torch.zeros(1, batches, layer_size))for layer_size in self.structure[1:]] \n",
    "        "
   ]
  },
  {
   "cell_type": "code",
   "execution_count": 107,
   "metadata": {},
   "outputs": [],
   "source": [
    "model = StockPredictor((5, 10, 5))\n",
    "optim = torch.optim.RMSprop(model.parameters(), lr=0.001)\n"
   ]
  },
  {
   "cell_type": "code",
   "execution_count": 82,
   "metadata": {},
   "outputs": [
    {
     "data": {
      "text/plain": [
       "StockPredictor(\n",
       "  (final): Linear(in_features=10, out_features=5, bias=True)\n",
       "  (activation): LeakyReLU(negative_slope=0.01)\n",
       ")"
      ]
     },
     "execution_count": 82,
     "metadata": {},
     "output_type": "execute_result"
    }
   ],
   "source": [
    "#load ignore if you want a new model\n",
    "model.load_state_dict(torch.load(\"./model.sav\"))\n",
    "model.eval()"
   ]
  },
  {
   "cell_type": "code",
   "execution_count": 117,
   "metadata": {},
   "outputs": [
    {
     "data": {
      "image/png": "[encoded data removed]",
      "text/plain": [
       "<Figure size 432x288 with 4 Axes>"
      ]
     },
     "metadata": {},
     "output_type": "display_data"
    },
    {
     "name": "stdout",
     "output_type": "stream",
     "text": [
      "999: 0.024750223383307457 | 0.0014529651962220669\n"
     ]
    },
    {
     "data": {
      "image/png": "[encoded data removed]",
      "text/plain": [
       "<Figure size 432x288 with 4 Axes>"
      ]
     },
     "metadata": {
      "needs_background": "light"
     },
     "output_type": "display_data"
    }
   ],
   "source": [
    "test_seperate = 3000\n",
    "epochs = 1000\n",
    "batches = 100\n",
    "target_offset = 1\n",
    "losses = []\n",
    "deltas = []\n",
    "fig, ((lax, dax), (cmpax, _)) = plt.subplots(ncols=2, nrows=2)\n",
    "lplot, = lax.plot([0, epochs], [1, 0], 'b')\n",
    "lax.set_title(\"loss\")\n",
    "dplot, = dax.plot([0, epochs], [1, 0], 'r')\n",
    "dax.set_title(\"delta\")\n",
    "rplot, = cmpax.plot([0, (data.size()[0]-target_offset)/batches], [-1, 1], 'r')\n",
    "pplot, = cmpax.plot([0, (data.size()[0]-target_offset)/batches], [-1, 1], 'b')\n",
    "cutoff = (data.size()[0] - target_offset) % batches\n",
    "print(cutoff)\n",
    "if cutoff != 0:\n",
    "    prep_data = data[:-cutoff]\n",
    "else:\n",
    "    prep_data = data\n",
    "batch_len = int(prep_data.size()[0]/batches)\n",
    "inputs = prep_data[:-target_offset, :].view(-1, batches, 5) #inferring length of the sequence\n",
    "target = prep_data[target_offset:, :].view(-1, batches, 5)\n",
    "for epoch in range(epochs):\n",
    "    model.zero_grad()\n",
    "    prediction = model.forward(inputs, batches=batches)\n",
    "    loss = ((prediction - target)**2).mean()\n",
    "    loss.backward()\n",
    "    optim.step()\n",
    "    delta = (prediction - target).abs().mean()\n",
    "    # visualising learning progress\n",
    "    deltas.append(np.asscalar(delta.detach().numpy()))\n",
    "    losses.append(np.asscalar(loss.detach().numpy()))\n",
    "    lplot.set_data(range(epoch+1), losses)\n",
    "    dplot.set_data(range(epoch+1), deltas)\n",
    "    rplot.set_data(range(target.size()[0]), target[:, epoch % batches, int((epoch/10) % 5)].detach().numpy())\n",
    "    pplot.set_data(range(target.size()[0]), prediction[:, epoch % batches, int((epoch/10) % 5)].detach().numpy())\n",
    "    clear_output(wait=True)\n",
    "    display(fig)\n",
    "    print(f'\\r{epoch}: {delta} | {loss.detach()}')\n",
    "    \n",
    "plt.show()    \n",
    "    "
   ]
  },
  {
   "cell_type": "code",
   "execution_count": 78,
   "metadata": {},
   "outputs": [],
   "source": [
    "#saving\n",
    "torch.save(model.state_dict(), \"./model.sav\")\n",
    "state = model.state_dict()"
   ]
  },
  {
   "cell_type": "code",
   "execution_count": 116,
   "metadata": {},
   "outputs": [
    {
     "data": {
      "image/png": "[encoded data removed]",
      "text/plain": [
       "<Figure size 432x288 with 1 Axes>"
      ]
     },
     "metadata": {
      "needs_background": "light"
     },
     "output_type": "display_data"
    }
   ],
   "source": [
    "#model.load_state_dict(state)\n",
    "sample = model.sample(50)\n",
    "plt.ylim(-1, 1)\n",
    "plt.plot(sample.numpy()[5:, 0, 0, 1])\n",
    "plt.show()"
   ]
  },
  {
   "cell_type": "code",
   "execution_count": null,
   "metadata": {},
   "outputs": [],
   "source": []
  }
 ],
 "metadata": {
  "kernelspec": {
   "display_name": "Python 3",
   "language": "python",
   "name": "python3"
  },
  "language_info": {
   "codemirror_mode": {
    "name": "ipython",
    "version": 3
   },
   "file_extension": ".py",
   "mimetype": "text/x-python",
   "name": "python",
   "nbconvert_exporter": "python",
   "pygments_lexer": "ipython3",
   "version": "3.7.3"
  }
 },
 "nbformat": 4,
 "nbformat_minor": 2
}
