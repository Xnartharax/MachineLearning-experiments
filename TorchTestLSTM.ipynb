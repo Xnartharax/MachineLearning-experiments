{
 "cells": [
  {
   "cell_type": "markdown",
   "metadata": {},
   "source": [
    "# Stock Predictor\n",
    "LSTM architecture to predict Stockprices based on [this Kaggle Dataset](https://www.kaggle.com/borismarjanovic/price-volume-data-for-all-us-stocks-etfs)\n"
   ]
  },
  {
   "cell_type": "code",
   "execution_count": 1,
   "metadata": {},
   "outputs": [
    {
     "data": {
      "text/plain": [
       "<torch._C.Generator at 0x1b1dd920ed0>"
      ]
     },
     "execution_count": 1,
     "metadata": {},
     "output_type": "execute_result"
    }
   ],
   "source": [
    "%matplotlib inline\n",
    "from IPython.display import display, clear_output\n",
    "import torch\n",
    "import torch.nn as nn\n",
    "import numpy as np\n",
    "import pandas as pd\n",
    "import sys\n",
    "import matplotlib\n",
    "matplotlib.use('Agg')\n",
    "import matplotlib.pyplot as plt\n",
    "torch.manual_seed(1)"
   ]
  },
  {
   "cell_type": "code",
   "execution_count": 41,
   "metadata": {},
   "outputs": [
    {
     "name": "stdout",
     "output_type": "stream",
     "text": [
      "200\n"
     ]
    }
   ],
   "source": [
    "csv = pd.read_csv('./googl.us.txt')\n",
    "csv.drop(columns=[\"OpenInt\", \"Date\"], inplace=True)\n",
    "data = torch.tensor(csv.values, dtype=torch.float)\n",
    "data = data[:200]\n",
    "print(data.size()[0])"
   ]
  },
  {
   "cell_type": "code",
   "execution_count": 35,
   "metadata": {},
   "outputs": [],
   "source": [
    "class StockPredictor(nn.Module):\n",
    "    def __init__(self, layers):\n",
    "        super(StockPredictor, self).__init__()\n",
    "        self.layers = layers\n",
    "        self.lstm = nn.LSTM(5, 1, 1)\n",
    "        self.lstms = [nn.LSTM(10, 10) for _ in range(layers-1)]\n",
    "        self.lstms.insert(0, nn.LSTM(5, 10, 1))\n",
    "        self.final = nn.LSTM(10, 1)\n",
    "        self.activation = nn.LeakyReLU()\n",
    "    def forward(self, stock, keep_hidden_state=False):\n",
    "        if not keep_hidden_state:\n",
    "            self.hidden = [(torch.randn(1, 1, 10),\n",
    "                       torch.randn(1, 1, 10))for _ in range(self.layers)] + [(torch.randn(1, 1, 1),\n",
    "                       torch.randn(1, 1, 1))]\n",
    "        out = 0\n",
    "        for i, lstm in enumerate(self.lstms):\n",
    "            if i != 0:\n",
    "                out, self.hidden[i] = lstm(out, self.hidden[i])\n",
    "            else:\n",
    "                out, self.hidden[i] = lstm(stock, self.hidden[i])\n",
    "            #out = self.activation(out)\n",
    "        out, self.hidden[self.layers] = self.final(out, self.hidden[self.layers])\n",
    "        return out"
   ]
  },
  {
   "cell_type": "code",
   "execution_count": 36,
   "metadata": {},
   "outputs": [],
   "source": [
    "model = StockPredictor(1)\n",
    "optim = torch.optim.RMSprop(model.parameters(), lr=0.1)\n",
    "loss_function = nn.MSELoss()"
   ]
  },
  {
   "cell_type": "code",
   "execution_count": 34,
   "metadata": {},
   "outputs": [
    {
     "ename": "RuntimeError",
     "evalue": "Error(s) in loading state_dict for StockPredictor:\n\tMissing key(s) in state_dict: \"final.weight_ih_l0\", \"final.weight_hh_l0\", \"final.bias_ih_l0\", \"final.bias_hh_l0\". \n\tUnexpected key(s) in state_dict: \"final.weight\", \"final.bias\". ",
     "output_type": "error",
     "traceback": [
      "\u001b[1;31m---------------------------------------------------------------------------\u001b[0m",
      "\u001b[1;31mRuntimeError\u001b[0m                              Traceback (most recent call last)",
      "\u001b[1;32m<ipython-input-34-35b8e8d6b329>\u001b[0m in \u001b[0;36m<module>\u001b[1;34m\u001b[0m\n\u001b[0;32m      1\u001b[0m \u001b[1;31m#load ignore if you want a new model\u001b[0m\u001b[1;33m\u001b[0m\u001b[1;33m\u001b[0m\u001b[1;33m\u001b[0m\u001b[0m\n\u001b[1;32m----> 2\u001b[1;33m \u001b[0mmodel\u001b[0m\u001b[1;33m.\u001b[0m\u001b[0mload_state_dict\u001b[0m\u001b[1;33m(\u001b[0m\u001b[0mtorch\u001b[0m\u001b[1;33m.\u001b[0m\u001b[0mload\u001b[0m\u001b[1;33m(\u001b[0m\u001b[1;34m\"./model.sav\"\u001b[0m\u001b[1;33m)\u001b[0m\u001b[1;33m)\u001b[0m\u001b[1;33m\u001b[0m\u001b[1;33m\u001b[0m\u001b[0m\n\u001b[0m\u001b[0;32m      3\u001b[0m \u001b[0mmodel\u001b[0m\u001b[1;33m.\u001b[0m\u001b[0meval\u001b[0m\u001b[1;33m(\u001b[0m\u001b[1;33m)\u001b[0m\u001b[1;33m\u001b[0m\u001b[1;33m\u001b[0m\u001b[0m\n\u001b[0;32m      4\u001b[0m \u001b[0moptim\u001b[0m \u001b[1;33m=\u001b[0m \u001b[0mtorch\u001b[0m\u001b[1;33m.\u001b[0m\u001b[0moptim\u001b[0m\u001b[1;33m.\u001b[0m\u001b[0mRMSprop\u001b[0m\u001b[1;33m(\u001b[0m\u001b[0mmodel\u001b[0m\u001b[1;33m.\u001b[0m\u001b[0mparameters\u001b[0m\u001b[1;33m(\u001b[0m\u001b[1;33m)\u001b[0m\u001b[1;33m,\u001b[0m \u001b[0mlr\u001b[0m\u001b[1;33m=\u001b[0m\u001b[1;36m0.1\u001b[0m\u001b[1;33m)\u001b[0m\u001b[1;33m\u001b[0m\u001b[1;33m\u001b[0m\u001b[0m\n",
      "\u001b[1;32m~\\Anaconda3\\lib\\site-packages\\torch\\nn\\modules\\module.py\u001b[0m in \u001b[0;36mload_state_dict\u001b[1;34m(self, state_dict, strict)\u001b[0m\n\u001b[0;32m    767\u001b[0m         \u001b[1;32mif\u001b[0m \u001b[0mlen\u001b[0m\u001b[1;33m(\u001b[0m\u001b[0merror_msgs\u001b[0m\u001b[1;33m)\u001b[0m \u001b[1;33m>\u001b[0m \u001b[1;36m0\u001b[0m\u001b[1;33m:\u001b[0m\u001b[1;33m\u001b[0m\u001b[1;33m\u001b[0m\u001b[0m\n\u001b[0;32m    768\u001b[0m             raise RuntimeError('Error(s) in loading state_dict for {}:\\n\\t{}'.format(\n\u001b[1;32m--> 769\u001b[1;33m                                self.__class__.__name__, \"\\n\\t\".join(error_msgs)))\n\u001b[0m\u001b[0;32m    770\u001b[0m \u001b[1;33m\u001b[0m\u001b[0m\n\u001b[0;32m    771\u001b[0m     \u001b[1;32mdef\u001b[0m \u001b[0m_named_members\u001b[0m\u001b[1;33m(\u001b[0m\u001b[0mself\u001b[0m\u001b[1;33m,\u001b[0m \u001b[0mget_members_fn\u001b[0m\u001b[1;33m,\u001b[0m \u001b[0mprefix\u001b[0m\u001b[1;33m=\u001b[0m\u001b[1;34m''\u001b[0m\u001b[1;33m,\u001b[0m \u001b[0mrecurse\u001b[0m\u001b[1;33m=\u001b[0m\u001b[1;32mTrue\u001b[0m\u001b[1;33m)\u001b[0m\u001b[1;33m:\u001b[0m\u001b[1;33m\u001b[0m\u001b[1;33m\u001b[0m\u001b[0m\n",
      "\u001b[1;31mRuntimeError\u001b[0m: Error(s) in loading state_dict for StockPredictor:\n\tMissing key(s) in state_dict: \"final.weight_ih_l0\", \"final.weight_hh_l0\", \"final.bias_ih_l0\", \"final.bias_hh_l0\". \n\tUnexpected key(s) in state_dict: \"final.weight\", \"final.bias\". "
     ]
    }
   ],
   "source": [
    "#load ignore if you want a new model\n",
    "model.load_state_dict(torch.load(\"./model.sav\"))\n",
    "model.eval()"
   ]
  },
  {
   "cell_type": "code",
   "execution_count": 44,
   "metadata": {},
   "outputs": [
    {
     "data": {
      "image/png": "[encoded data removed]",
      "text/plain": [
       "<Figure size 432x288 with 4 Axes>"
      ]
     },
     "metadata": {},
     "output_type": "display_data"
    },
    {
     "name": "stdout",
     "output_type": "stream",
     "text": [
      "999: 94.78502655029297 | 84440840.0\n"
     ]
    },
    {
     "data": {
      "image/png": "[encoded data removed]",
      "text/plain": [
       "<Figure size 432x288 with 4 Axes>"
      ]
     },
     "metadata": {
      "needs_background": "light"
     },
     "output_type": "display_data"
    }
   ],
   "source": [
    "test_seperate = 3000\n",
    "epochs = 1000\n",
    "losses = []\n",
    "deltas = []\n",
    "fig, ((lax, dax), (cmpax, _)) = plt.subplots(ncols=2, nrows=2)\n",
    "lplot, = lax.plot([0, epochs], [300000, 0], 'b')\n",
    "dplot, = dax.plot([0, epochs], [500, -500], 'r')\n",
    "rplot, = cmpax.plot([0, data.size()[0]], [0, 2000], 'r')\n",
    "pplot, = cmpax.plot([0, data.size()[0]], [0, 2000], 'r')\n",
    "for epoch in range(epochs):\n",
    "    model.zero_grad()\n",
    "    inputs = data[:-30, :].view(-1, 1, 5) #inferring length of the sequence\n",
    "    target = data[30:, 3]\n",
    "    prediction = model.forward(inputs)\n",
    "    loss = loss_function(prediction[:, 0].view(-1), target)**2\n",
    "    loss.backward()\n",
    "    optim.step()\n",
    "    delta = prediction - data[30:, 3]\n",
    "    # visualising learning progress\n",
    "    deltas.append(np.asscalar(delta.mean().detach().numpy()))\n",
    "    losses.append(np.asscalar(loss.detach().numpy()))\n",
    "    lplot.set_data(range(epoch+1), losses)\n",
    "    dplot.set_data(range(epoch+1), deltas)\n",
    "    rplot.set_data(range(data.size()[0]-30), target.detach().numpy())\n",
    "    pplot.set_data(range(data.size()[0]-30), prediction.detach().numpy())\n",
    "    clear_output(wait=True)\n",
    "    display(fig)\n",
    "    print(f'\\r{epoch}: {delta.abs().mean()} | {loss}')\n",
    "    \n",
    "    \n",
    "plt.show()    \n",
    "    "
   ]
  },
  {
   "cell_type": "code",
   "execution_count": 23,
   "metadata": {},
   "outputs": [],
   "source": [
    "#saving\n",
    "torch.save(model.state_dict(), \"./model.sav\")"
   ]
  },
  {
   "cell_type": "code",
   "execution_count": null,
   "metadata": {},
   "outputs": [],
   "source": []
  }
 ],
 "metadata": {
  "kernelspec": {
   "display_name": "Python 3",
   "language": "python",
   "name": "python3"
  },
  "language_info": {
   "codemirror_mode": {
    "name": "ipython",
    "version": 3
   },
   "file_extension": ".py",
   "mimetype": "text/x-python",
   "name": "python",
   "nbconvert_exporter": "python",
   "pygments_lexer": "ipython3",
   "version": "3.7.3"
  }
 },
 "nbformat": 4,
 "nbformat_minor": 2
}
