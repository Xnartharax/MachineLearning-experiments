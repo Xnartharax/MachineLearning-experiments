{
 "cells": [
  {
   "cell_type": "markdown",
   "metadata": {},
   "source": [
    "# Stock Predictor\n",
    "LSTM architecture to predict Stockprices based on [this Kaggle Dataset](https://www.kaggle.com/borismarjanovic/price-volume-data-for-all-us-stocks-etfs)\n"
   ]
  },
  {
   "cell_type": "code",
   "execution_count": 16,
   "metadata": {},
   "outputs": [
    {
     "data": {
      "text/plain": [
       "<torch._C.Generator at 0x2c4c5485070>"
      ]
     },
     "execution_count": 16,
     "metadata": {},
     "output_type": "execute_result"
    }
   ],
   "source": [
    "%matplotlib inline\n",
    "from IPython.display import display, clear_output\n",
    "import torch\n",
    "import torch.nn as nn\n",
    "import numpy as np\n",
    "import pandas as pd\n",
    "import sys\n",
    "import matplotlib\n",
    "matplotlib.use('Agg')\n",
    "import matplotlib.pyplot as plt\n",
    "torch.manual_seed(1)"
   ]
  },
  {
   "cell_type": "code",
   "execution_count": 62,
   "metadata": {},
   "outputs": [
    {
     "name": "stdout",
     "output_type": "stream",
     "text": [
      "3333\n"
     ]
    }
   ],
   "source": [
    "csv = pd.read_csv('./googl.us.txt')\n",
    "csv.drop(columns=[\"OpenInt\", \"Date\"], inplace=True)\n",
    "data = torch.tensor(csv.values, dtype=torch.float)\n",
    "print(data.size()[0])"
   ]
  },
  {
   "cell_type": "code",
   "execution_count": 51,
   "metadata": {},
   "outputs": [],
   "source": [
    "class StockPredictor(nn.Module):\n",
    "    def __init__(self, layers):\n",
    "        super(StockPredictor, self).__init__()\n",
    "        self.layers = layers\n",
    "        self.lstm = nn.LSTM(5, 5, layers)\n",
    "        self.final = nn.Linear(5, 1)\n",
    "    def forward(self, stockAtDate, keep_hidden_state=False):\n",
    "        if not keep_hidden_state:\n",
    "            self.hidden = (torch.randn(self.layers, 1, 5),\n",
    "                       torch.randn(self.layers, 1, 5))\n",
    "        out, self.hidden = self.lstm(stockAtDate, self.hidden)\n",
    "        out = self.final(out)\n",
    "        return out"
   ]
  },
  {
   "cell_type": "code",
   "execution_count": 52,
   "metadata": {},
   "outputs": [],
   "source": [
    "model = StockPredictor(2)\n",
    "optim = torch.optim.Adam(model.parameters(), lr=0.1)\n",
    "loss_function = nn.MSELoss()"
   ]
  },
  {
   "cell_type": "code",
   "execution_count": null,
   "metadata": {},
   "outputs": [
    {
     "data": {
      "image/png": "[encoded data removed]",
      "text/plain": [
       "<Figure size 432x288 with 4 Axes>"
      ]
     },
     "metadata": {},
     "output_type": "display_data"
    }
   ],
   "source": [
    "test_seperate = 3000\n",
    "epochs = 1000\n",
    "losses = []\n",
    "deltas = []\n",
    "fig, ((lax, dax), (cmpax, _)) = plt.subplots(ncols=2, nrows=2)\n",
    "lplot, = lax.plot([0, epochs], [300000, 0], 'b')\n",
    "dplot, = dax.plot([0, epochs], [500, -500], 'r')\n",
    "rplot, = cmpax.plot([0, data.size()[0]], [0, 2000], 'r')\n",
    "pplot, = cmpax.plot([0, data.size()[0]], [0, 2000], 'r')\n",
    "for epoch in range(epochs):\n",
    "    model.zero_grad()\n",
    "    inputs = data[:-30, :].view(-1, 1, 5) #inferring length of the sequence\n",
    "    target = data[30:, 3]\n",
    "    prediction = model(inputs)\n",
    "    loss = loss_function(prediction[0,0], target.view(1, -1))\n",
    "    loss.backward()\n",
    "    optim.step()\n",
    "    delta = model(data[:test_seperate, :].view(-1, 1, 5)) - data[30:test_seperate+30, 3]\n",
    "    # visualising learning progress\n",
    "    deltas.append(np.asscalar(delta.mean().detach().numpy()))\n",
    "    losses.append(np.asscalar(loss.detach().numpy()))\n",
    "    lplot.set_data(range(epoch+1), losses)\n",
    "    dplot.set_data(range(epoch+1), deltas)\n",
    "    rplot.set_data(range(data.size()[0]-30), target.detach().numpy())\n",
    "    pplot.set_data(range(data.size()[0]-30), prediction.detach().numpy())\n",
    "    clear_output(wait=True)\n",
    "    display(fig)\n",
    "    print(f'\\r{epoch}: {abs(delta.mean())} | {loss}')\n",
    "    \n",
    "plt.show()    \n",
    "    "
   ]
  },
  {
   "cell_type": "code",
   "execution_count": null,
   "metadata": {},
   "outputs": [],
   "source": []
  }
 ],
 "metadata": {
  "kernelspec": {
   "display_name": "Python 3",
   "language": "python",
   "name": "python3"
  },
  "language_info": {
   "codemirror_mode": {
    "name": "ipython",
    "version": 3
   },
   "file_extension": ".py",
   "mimetype": "text/x-python",
   "name": "python",
   "nbconvert_exporter": "python",
   "pygments_lexer": "ipython3",
   "version": "3.7.3"
  }
 },
 "nbformat": 4,
 "nbformat_minor": 2
}
