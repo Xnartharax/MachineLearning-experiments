{
 "cells": [
  {
   "cell_type": "code",
   "execution_count": 10,
   "metadata": {},
   "outputs": [],
   "source": [
    "%matplotlib inline\n",
    "from IPython.display import display, clear_output\n",
    "import pandas as pd\n",
    "import string\n",
    "import torch\n",
    "import torch.nn as nn\n",
    "import numpy as np\n",
    "from math import floor, ceil\n",
    "import sys\n",
    "import matplotlib\n",
    "import matplotlib.pyplot as plt\n",
    "from torch.nn.utils.rnn import pack_sequence, pad_packed_sequence, pad_sequence"
   ]
  },
  {
   "cell_type": "code",
   "execution_count": 2,
   "metadata": {},
   "outputs": [],
   "source": [
    "def char_to_onehot(char):\n",
    "    return [0 if char!=alphabet[i] else 1 for i, _ in enumerate(alphabet)]\n",
    "def encode_sequence(sequence):\n",
    "    seq = list(sequence)\n",
    "    seq.insert(0, \"<SOS>\")\n",
    "    out = [char_to_onehot(char) for char in seq]\n",
    "    return out\n",
    "def decode_sequence(sequence):\n",
    "    chars = [alphabet[torch.argmax(char)] for char in sequence]\n",
    "    decoded = \"\"\n",
    "    for char in chars:\n",
    "        decoded += char\n",
    "    return decoded"
   ]
  },
  {
   "cell_type": "code",
   "execution_count": 3,
   "metadata": {},
   "outputs": [
    {
     "name": "stdout",
     "output_type": "stream",
     "text": [
      "133\n"
     ]
    }
   ],
   "source": [
    "df = pd.read_csv(\"./treffer.csv\", sep=';')\n",
    "df.drop(columns=[\"Datenbestand\", \"Aktenzeichen/Registernummer\", \"Aktenzustand\"], inplace=True)\n",
    "everything = []\n",
    "for _, row in df.iterrows():\n",
    "    everything += list(row[\"Markendarstellung\"])\n",
    "alphabet = [\"<pad>\"] + list(set(everything)) + [\"<SOS>\", \"<EOS>\"]\n",
    "print(len(alphabet))"
   ]
  },
  {
   "cell_type": "code",
   "execution_count": 4,
   "metadata": {},
   "outputs": [],
   "source": [
    "features =[encode_sequence(seq[\"Markendarstellung\"]) for i, seq in df.iterrows()]\n",
    "targets = [[alphabet.index(char) for char in list(seq[\"Markendarstellung\"])]+[len(alphabet)-1]\\\n",
    "                  for i, seq in df.iterrows()]"
   ]
  },
  {
   "cell_type": "code",
   "execution_count": 50,
   "metadata": {},
   "outputs": [],
   "source": [
    "#forming into the batches\n",
    "def get_batch(features, targets, i, n_batches):\n",
    "    batch_len = int(floor(len(features)/n_batches))\n",
    "    batch_features = sorted(features[i*batch_len:(i+1)*batch_len], key=lambda x: len(x), reverse=True)\n",
    "    batch_targets = sorted(targets[i*batch_len:(i+1)*batch_len], key=lambda x: len(x), reverse=True)\n",
    "    return (nn.utils.rnn.pack_sequence([torch.tensor(seq, dtype=torch.float32).view(-1, len(alphabet))\\\n",
    "                                        for seq in batch_features]),\\\n",
    "            pad_sequence([torch.tensor(target) for target in batch_targets]), len(batch_features))"
   ]
  },
  {
   "cell_type": "code",
   "execution_count": 57,
   "metadata": {},
   "outputs": [],
   "source": [
    "class CharPredictor(nn.Module):\n",
    "    def __init__(self, structure):\n",
    "        super(CharPredictor, self).__init__()\n",
    "        self.structure = structure\n",
    "        self.layers = len(structure)\n",
    "        self.lstms = [nn.LSTM(i, o) for i, o in zip(structure[:-2], structure[1:-1])]\n",
    "        self.final = nn.Linear(structure[-2], structure[-1])\n",
    "        self.activation = nn.Softmax(dim=2)\n",
    "    def forward(self, seq, keep_hidden_state=False, batch_size=1, plots={}):\n",
    "        if \"activations\" in plots:\n",
    "            means = []\n",
    "        if \"stds\" in plots:\n",
    "            stds = []\n",
    "        if \"variances\" in plots:\n",
    "            variances = []\n",
    "        if not keep_hidden_state:\n",
    "            self.init_hidden(batch_size)\n",
    "        for i, lstm in enumerate(self.lstms):\n",
    "            if i != 0:\n",
    "                out, self.hidden[i] = lstm(out, self.hidden[i])\n",
    "            else:\n",
    "                out, self.hidden[i] = lstm(seq, self.hidden[i])\n",
    "            if \"activations\" in plots:\n",
    "                means.append(out.data.abs().mean().item())  \n",
    "            if \"stds\" in plots:\n",
    "                stds.append(out.data.std().item())\n",
    "            if \"variances\" in plots:\n",
    "                variances.append(out.data.var().item())\n",
    "        out = pad_packed_sequence(out)[0]\n",
    "        out = self.activation(self.final(out))\n",
    "        if \"activations\" in plots:\n",
    "            means.append(out.mean().item())\n",
    "            plots[\"activations\"].set_data(range(len(self.structure)-1), means)\n",
    "        if \"stds\" in plots:\n",
    "            stds.append(out.std().item())\n",
    "            plots[\"stds\"].set_data(range(len(self.structure)-1), stds)\n",
    "        if \"variances\" in plots:\n",
    "            variances.append(out.var().item())\n",
    "            plots[\"variances\"].set_data(range(len(self.structure)-1), variances)\n",
    "        \n",
    "        return out\n",
    "    def train(self, seqs, targets, eval_seqs, eval_targets, epochs, n_batches, optim,\n",
    "              plots={}, start_epoch=0, losses=[], eval_losses=[]):\n",
    "        best_loss = 100\n",
    "        criterion = nn.NLLLoss(reduction=\"mean\")\n",
    "        eval_X, eval_y, eval_batch_len = get_batch(eval_seqs, eval_targets, 0, 1)\n",
    "        for epoch in range(start_epoch, epochs):\n",
    "            N_batches = ceil(n_batches * (0.99**epoch))\n",
    "            for batch in range(N_batches):\n",
    "                model.zero_grad()\n",
    "                X, y, batch_len = get_batch(seqs, targets, batch, N_batches)\n",
    "                y_hat = self(X, plots=plots, batch_size=batch_len)\n",
    "                loss = criterion(torch.log(y_hat).view(-1, len(alphabet)), y.view(-1))\n",
    "                loss.backward()\n",
    "                eval_predictions = self(eval_X, batch_size=eval_batch_len)\n",
    "                eval_loss = criterion(torch.log(eval_predictions).view(-1, len(alphabet)), eval_y.view(-1))\n",
    "                if \"grads\" in plots:\n",
    "                    grads = [lstm.weight_ih_l0.grad.abs().mean() for lstm in self.lstms] + [self.final.weight.grad.max()]\n",
    "                    print(len(grads))\n",
    "                optim.step()      \n",
    "                clear_output()\n",
    "                print(f'{epoch}:{batch}|{loss.detach().numpy()}|{eval_loss.detach().numpy()}' )\n",
    "                losses.append(loss)\n",
    "                eval_losses.append(eval_loss)\n",
    "                if plots != {}:\n",
    "                    if \"loss\" in plots:\n",
    "                        plots[\"loss\"].set_data(range(len(losses)), losses)\n",
    "                    if \"grads\" in plots:\n",
    "                        plots[\"grads\"].set_data(range(len(self.structure)-1), grads)\n",
    "                    if \"eval_loss\" in plots:\n",
    "                        plots[\"eval_loss\"].set_data(range(len(eval_losses)), eval_losses)\n",
    "                    display(plots[\"fig\"])\n",
    "                if(loss<3 and loss<best_loss):\n",
    "                    self.save_checkpoint(losses, epoch, batch, optim)\n",
    "                    best_loss = loss\n",
    "                    print(\"saved checkpoint\")\n",
    "    def init_hidden(self, batches):\n",
    "        self.hidden = [(torch.zeros(1, batches, layer_size),\n",
    "                       torch.randn(1, batches, layer_size))for layer_size in self.structure[1:]] \n",
    "    def save_checkpoint(losses, epoch, batch, optim):\n",
    "        torch.save({\n",
    "            \"model_state_dict\":self.state_dict(),\n",
    "            \"optim_state_dict\":optim.state_dict(),\n",
    "            \"losses\":losses,\n",
    "            \"epoch\":epoch,\n",
    "            \"batch\":batch\n",
    "        },f\"./safepoints/safepoint_at_loss_{losses[-1]}.pt\")\n",
    "    \n",
    "        "
   ]
  },
  {
   "cell_type": "code",
   "execution_count": 58,
   "metadata": {},
   "outputs": [],
   "source": [
    "structure = (len(alphabet), 100, 100, 100, len(alphabet))\n",
    "model = CharPredictor(structure)\n",
    "optim = torch.optim.RMSprop(model.parameters(), lr=0.0005)"
   ]
  },
  {
   "cell_type": "code",
   "execution_count": 59,
   "metadata": {},
   "outputs": [
    {
     "name": "stdout",
     "output_type": "stream",
     "text": [
      "5:62|4.35146951675415|4.359177589416504\n"
     ]
    },
    {
     "data": {
      "image/png": "[encoded data removed]",
      "text/plain": [
       "<Figure size 432x288 with 4 Axes>"
      ]
     },
     "metadata": {},
     "output_type": "display_data"
    },
    {
     "ename": "RuntimeError",
     "evalue": "$ Torch: not enough memory: you tried to allocate 0GB. Buy new RAM! at ..\\aten\\src\\TH\\THGeneral.cpp:201",
     "output_type": "error",
     "traceback": [
      "\u001b[1;31m---------------------------------------------------------------------------\u001b[0m",
      "\u001b[1;31mRuntimeError\u001b[0m                              Traceback (most recent call last)",
      "\u001b[1;32m<ipython-input-59-d8ae8352e16d>\u001b[0m in \u001b[0;36m<module>\u001b[1;34m\u001b[0m\n\u001b[0;32m     12\u001b[0m \u001b[1;31m#     \"accuracy\":accax.plot([0, epochs*n_batches], [0, 1])\u001b[0m\u001b[1;33m\u001b[0m\u001b[1;33m\u001b[0m\u001b[1;33m\u001b[0m\u001b[0m\n\u001b[0;32m     13\u001b[0m }\n\u001b[1;32m---> 14\u001b[1;33m \u001b[0mmodel\u001b[0m\u001b[1;33m.\u001b[0m\u001b[0mtrain\u001b[0m\u001b[1;33m(\u001b[0m\u001b[0mfeatures\u001b[0m\u001b[1;33m[\u001b[0m\u001b[1;36m100\u001b[0m\u001b[1;33m:\u001b[0m\u001b[1;33m]\u001b[0m\u001b[1;33m,\u001b[0m \u001b[0mtargets\u001b[0m\u001b[1;33m[\u001b[0m\u001b[1;36m100\u001b[0m\u001b[1;33m:\u001b[0m\u001b[1;33m]\u001b[0m\u001b[1;33m,\u001b[0m \u001b[0mfeatures\u001b[0m\u001b[1;33m[\u001b[0m\u001b[1;33m:\u001b[0m\u001b[1;36m100\u001b[0m\u001b[1;33m]\u001b[0m\u001b[1;33m,\u001b[0m \u001b[0mtargets\u001b[0m\u001b[1;33m[\u001b[0m\u001b[1;33m:\u001b[0m\u001b[1;36m100\u001b[0m\u001b[1;33m]\u001b[0m\u001b[1;33m,\u001b[0m \u001b[0mepochs\u001b[0m\u001b[1;33m,\u001b[0m \u001b[0mn_batches\u001b[0m\u001b[1;33m,\u001b[0m \u001b[0moptim\u001b[0m\u001b[1;33m,\u001b[0m \u001b[0mplots\u001b[0m\u001b[1;33m=\u001b[0m\u001b[0mplots\u001b[0m\u001b[1;33m)\u001b[0m\u001b[1;33m\u001b[0m\u001b[1;33m\u001b[0m\u001b[0m\n\u001b[0m\u001b[0;32m     15\u001b[0m \u001b[0mtorch\u001b[0m\u001b[1;33m.\u001b[0m\u001b[0msave\u001b[0m\u001b[1;33m(\u001b[0m\u001b[0mmodel\u001b[0m\u001b[1;33m,\u001b[0m \u001b[1;34m\"./good_try.pt\"\u001b[0m\u001b[1;33m)\u001b[0m\u001b[1;33m\u001b[0m\u001b[1;33m\u001b[0m\u001b[0m\n",
      "\u001b[1;32m<ipython-input-57-e7e12d14000c>\u001b[0m in \u001b[0;36mtrain\u001b[1;34m(self, seqs, targets, eval_seqs, eval_targets, epochs, n_batches, optim, plots, start_epoch, losses, eval_losses)\u001b[0m\n\u001b[0;32m     50\u001b[0m                 \u001b[0mmodel\u001b[0m\u001b[1;33m.\u001b[0m\u001b[0mzero_grad\u001b[0m\u001b[1;33m(\u001b[0m\u001b[1;33m)\u001b[0m\u001b[1;33m\u001b[0m\u001b[1;33m\u001b[0m\u001b[0m\n\u001b[0;32m     51\u001b[0m                 \u001b[0mX\u001b[0m\u001b[1;33m,\u001b[0m \u001b[0my\u001b[0m\u001b[1;33m,\u001b[0m \u001b[0mbatch_len\u001b[0m \u001b[1;33m=\u001b[0m \u001b[0mget_batch\u001b[0m\u001b[1;33m(\u001b[0m\u001b[0mseqs\u001b[0m\u001b[1;33m,\u001b[0m \u001b[0mtargets\u001b[0m\u001b[1;33m,\u001b[0m \u001b[0mbatch\u001b[0m\u001b[1;33m,\u001b[0m \u001b[0mN_batches\u001b[0m\u001b[1;33m)\u001b[0m\u001b[1;33m\u001b[0m\u001b[1;33m\u001b[0m\u001b[0m\n\u001b[1;32m---> 52\u001b[1;33m                 \u001b[0my_hat\u001b[0m \u001b[1;33m=\u001b[0m \u001b[0mself\u001b[0m\u001b[1;33m(\u001b[0m\u001b[0mX\u001b[0m\u001b[1;33m,\u001b[0m \u001b[0mplots\u001b[0m\u001b[1;33m=\u001b[0m\u001b[0mplots\u001b[0m\u001b[1;33m,\u001b[0m \u001b[0mbatch_size\u001b[0m\u001b[1;33m=\u001b[0m\u001b[0mbatch_len\u001b[0m\u001b[1;33m)\u001b[0m\u001b[1;33m\u001b[0m\u001b[1;33m\u001b[0m\u001b[0m\n\u001b[0m\u001b[0;32m     53\u001b[0m                 \u001b[0mloss\u001b[0m \u001b[1;33m=\u001b[0m \u001b[0mcriterion\u001b[0m\u001b[1;33m(\u001b[0m\u001b[0mtorch\u001b[0m\u001b[1;33m.\u001b[0m\u001b[0mlog\u001b[0m\u001b[1;33m(\u001b[0m\u001b[0my_hat\u001b[0m\u001b[1;33m)\u001b[0m\u001b[1;33m.\u001b[0m\u001b[0mview\u001b[0m\u001b[1;33m(\u001b[0m\u001b[1;33m-\u001b[0m\u001b[1;36m1\u001b[0m\u001b[1;33m,\u001b[0m \u001b[0mlen\u001b[0m\u001b[1;33m(\u001b[0m\u001b[0malphabet\u001b[0m\u001b[1;33m)\u001b[0m\u001b[1;33m)\u001b[0m\u001b[1;33m,\u001b[0m \u001b[0my\u001b[0m\u001b[1;33m.\u001b[0m\u001b[0mview\u001b[0m\u001b[1;33m(\u001b[0m\u001b[1;33m-\u001b[0m\u001b[1;36m1\u001b[0m\u001b[1;33m)\u001b[0m\u001b[1;33m)\u001b[0m\u001b[1;33m\u001b[0m\u001b[1;33m\u001b[0m\u001b[0m\n\u001b[0;32m     54\u001b[0m                 \u001b[0mloss\u001b[0m\u001b[1;33m.\u001b[0m\u001b[0mbackward\u001b[0m\u001b[1;33m(\u001b[0m\u001b[1;33m)\u001b[0m\u001b[1;33m\u001b[0m\u001b[1;33m\u001b[0m\u001b[0m\n",
      "\u001b[1;32m~\\Anaconda3\\lib\\site-packages\\torch\\nn\\modules\\module.py\u001b[0m in \u001b[0;36m__call__\u001b[1;34m(self, *input, **kwargs)\u001b[0m\n\u001b[0;32m    487\u001b[0m             \u001b[0mresult\u001b[0m \u001b[1;33m=\u001b[0m \u001b[0mself\u001b[0m\u001b[1;33m.\u001b[0m\u001b[0m_slow_forward\u001b[0m\u001b[1;33m(\u001b[0m\u001b[1;33m*\u001b[0m\u001b[0minput\u001b[0m\u001b[1;33m,\u001b[0m \u001b[1;33m**\u001b[0m\u001b[0mkwargs\u001b[0m\u001b[1;33m)\u001b[0m\u001b[1;33m\u001b[0m\u001b[1;33m\u001b[0m\u001b[0m\n\u001b[0;32m    488\u001b[0m         \u001b[1;32melse\u001b[0m\u001b[1;33m:\u001b[0m\u001b[1;33m\u001b[0m\u001b[1;33m\u001b[0m\u001b[0m\n\u001b[1;32m--> 489\u001b[1;33m             \u001b[0mresult\u001b[0m \u001b[1;33m=\u001b[0m \u001b[0mself\u001b[0m\u001b[1;33m.\u001b[0m\u001b[0mforward\u001b[0m\u001b[1;33m(\u001b[0m\u001b[1;33m*\u001b[0m\u001b[0minput\u001b[0m\u001b[1;33m,\u001b[0m \u001b[1;33m**\u001b[0m\u001b[0mkwargs\u001b[0m\u001b[1;33m)\u001b[0m\u001b[1;33m\u001b[0m\u001b[1;33m\u001b[0m\u001b[0m\n\u001b[0m\u001b[0;32m    490\u001b[0m         \u001b[1;32mfor\u001b[0m \u001b[0mhook\u001b[0m \u001b[1;32min\u001b[0m \u001b[0mself\u001b[0m\u001b[1;33m.\u001b[0m\u001b[0m_forward_hooks\u001b[0m\u001b[1;33m.\u001b[0m\u001b[0mvalues\u001b[0m\u001b[1;33m(\u001b[0m\u001b[1;33m)\u001b[0m\u001b[1;33m:\u001b[0m\u001b[1;33m\u001b[0m\u001b[1;33m\u001b[0m\u001b[0m\n\u001b[0;32m    491\u001b[0m             \u001b[0mhook_result\u001b[0m \u001b[1;33m=\u001b[0m \u001b[0mhook\u001b[0m\u001b[1;33m(\u001b[0m\u001b[0mself\u001b[0m\u001b[1;33m,\u001b[0m \u001b[0minput\u001b[0m\u001b[1;33m,\u001b[0m \u001b[0mresult\u001b[0m\u001b[1;33m)\u001b[0m\u001b[1;33m\u001b[0m\u001b[1;33m\u001b[0m\u001b[0m\n",
      "\u001b[1;32m<ipython-input-57-e7e12d14000c>\u001b[0m in \u001b[0;36mforward\u001b[1;34m(self, seq, keep_hidden_state, batch_size, plots)\u001b[0m\n\u001b[0;32m     22\u001b[0m                 \u001b[0mout\u001b[0m\u001b[1;33m,\u001b[0m \u001b[0mself\u001b[0m\u001b[1;33m.\u001b[0m\u001b[0mhidden\u001b[0m\u001b[1;33m[\u001b[0m\u001b[0mi\u001b[0m\u001b[1;33m]\u001b[0m \u001b[1;33m=\u001b[0m \u001b[0mlstm\u001b[0m\u001b[1;33m(\u001b[0m\u001b[0mseq\u001b[0m\u001b[1;33m,\u001b[0m \u001b[0mself\u001b[0m\u001b[1;33m.\u001b[0m\u001b[0mhidden\u001b[0m\u001b[1;33m[\u001b[0m\u001b[0mi\u001b[0m\u001b[1;33m]\u001b[0m\u001b[1;33m)\u001b[0m\u001b[1;33m\u001b[0m\u001b[1;33m\u001b[0m\u001b[0m\n\u001b[0;32m     23\u001b[0m             \u001b[1;32mif\u001b[0m \u001b[1;34m\"activations\"\u001b[0m \u001b[1;32min\u001b[0m \u001b[0mplots\u001b[0m\u001b[1;33m:\u001b[0m\u001b[1;33m\u001b[0m\u001b[1;33m\u001b[0m\u001b[0m\n\u001b[1;32m---> 24\u001b[1;33m                 \u001b[0mmeans\u001b[0m\u001b[1;33m.\u001b[0m\u001b[0mappend\u001b[0m\u001b[1;33m(\u001b[0m\u001b[0mout\u001b[0m\u001b[1;33m.\u001b[0m\u001b[0mdata\u001b[0m\u001b[1;33m.\u001b[0m\u001b[0mabs\u001b[0m\u001b[1;33m(\u001b[0m\u001b[1;33m)\u001b[0m\u001b[1;33m.\u001b[0m\u001b[0mmean\u001b[0m\u001b[1;33m(\u001b[0m\u001b[1;33m)\u001b[0m\u001b[1;33m.\u001b[0m\u001b[0mitem\u001b[0m\u001b[1;33m(\u001b[0m\u001b[1;33m)\u001b[0m\u001b[1;33m)\u001b[0m\u001b[1;33m\u001b[0m\u001b[1;33m\u001b[0m\u001b[0m\n\u001b[0m\u001b[0;32m     25\u001b[0m             \u001b[1;32mif\u001b[0m \u001b[1;34m\"stds\"\u001b[0m \u001b[1;32min\u001b[0m \u001b[0mplots\u001b[0m\u001b[1;33m:\u001b[0m\u001b[1;33m\u001b[0m\u001b[1;33m\u001b[0m\u001b[0m\n\u001b[0;32m     26\u001b[0m                 \u001b[0mstds\u001b[0m\u001b[1;33m.\u001b[0m\u001b[0mappend\u001b[0m\u001b[1;33m(\u001b[0m\u001b[0mout\u001b[0m\u001b[1;33m.\u001b[0m\u001b[0mdata\u001b[0m\u001b[1;33m.\u001b[0m\u001b[0mstd\u001b[0m\u001b[1;33m(\u001b[0m\u001b[1;33m)\u001b[0m\u001b[1;33m.\u001b[0m\u001b[0mitem\u001b[0m\u001b[1;33m(\u001b[0m\u001b[1;33m)\u001b[0m\u001b[1;33m)\u001b[0m\u001b[1;33m\u001b[0m\u001b[1;33m\u001b[0m\u001b[0m\n",
      "\u001b[1;31mRuntimeError\u001b[0m: $ Torch: not enough memory: you tried to allocate 0GB. Buy new RAM! at ..\\aten\\src\\TH\\THGeneral.cpp:201"
     ]
    },
    {
     "data": {
      "image/png": "[encoded data removed]",
      "text/plain": [
       "<Figure size 432x288 with 4 Axes>"
      ]
     },
     "metadata": {
      "needs_background": "light"
     },
     "output_type": "display_data"
    }
   ],
   "source": [
    "fig, ((lax, aax), (gax, accax)) = plt.subplots(ncols=2, nrows=2)\n",
    "epochs = 100\n",
    "n_batches = 75\n",
    "plots = {\n",
    "    \"fig\":fig,\n",
    "    \"activations\":aax.plot([0, len(structure)-2], [0, 0.3], \"r\")[0],\n",
    "    \"stds\":aax.plot([0, len(structure)-2], [0, 0.1], \"b\")[0],\n",
    "    \"variances\":aax.plot([0, len(structure)-2], [0, 0.1], \"g\")[0],\n",
    "    \"loss\":lax.plot([0, epochs*n_batches], [0, 5], \"b\")[0],\n",
    "    \"eval_loss\":lax.plot([0, epochs*n_batches], [0, 5], \"r\")[0],\n",
    "    \"grads\":gax.plot([0, len(structure)-2], [0, 1])[0],\n",
    "#     \"accuracy\":accax.plot([0, epochs*n_batches], [0, 1])\n",
    "}\n",
    "model.train(features[100:], targets[100:], features[:100], targets[:100], epochs, n_batches, optim, plots=plots)\n",
    "torch.save(model, \"./good_try.pt\")"
   ]
  },
  {
   "cell_type": "code",
   "execution_count": 60,
   "metadata": {},
   "outputs": [
    {
     "name": "stderr",
     "output_type": "stream",
     "text": [
      "C:\\Users\\jonas\\Anaconda3\\lib\\site-packages\\torch\\serialization.py:251: UserWarning: Couldn't retrieve source code for container of type CharPredictor. It won't be checked for correctness upon loading.\n",
      "  \"type \" + obj.__name__ + \". It won't be checked \"\n"
     ]
    }
   ],
   "source": [
    "torch.save(model, \"./good_try.pt\")"
   ]
  },
  {
   "cell_type": "code",
   "execution_count": 95,
   "metadata": {},
   "outputs": [],
   "source": [
    "model = torch.load(\"./good_try.pt\")"
   ]
  },
  {
   "cell_type": "code",
   "execution_count": null,
   "metadata": {},
   "outputs": [
    {
     "name": "stdout",
     "output_type": "stream",
     "text": [
      "22:63|1.8262362480163574\n"
     ]
    }
   ],
   "source": [
    "second_model.train(features, epochs, n_batches, optim)"
   ]
  },
  {
   "cell_type": "code",
   "execution_count": null,
   "metadata": {},
   "outputs": [],
   "source": []
  }
 ],
 "metadata": {
  "kernelspec": {
   "display_name": "Python 3",
   "language": "python",
   "name": "python3"
  },
  "language_info": {
   "codemirror_mode": {
    "name": "ipython",
    "version": 3
   },
   "file_extension": ".py",
   "mimetype": "text/x-python",
   "name": "python",
   "nbconvert_exporter": "python",
   "pygments_lexer": "ipython3",
   "version": "3.7.3"
  }
 },
 "nbformat": 4,
 "nbformat_minor": 2
}
